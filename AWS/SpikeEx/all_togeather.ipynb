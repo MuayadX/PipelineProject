{
 "cells": [
  {
   "cell_type": "markdown",
   "metadata": {},
   "source": [
    "### Get data from an API "
   ]
  },
  {
   "cell_type": "code",
   "execution_count": 35,
   "metadata": {},
   "outputs": [
    {
     "name": "stdout",
     "output_type": "stream",
     "text": [
      "{'coord': {'lon': 13.4105, 'lat': 52.5244}, 'weather': [{'id': 803, 'main': 'Clouds', 'description': 'broken clouds', 'icon': '04d'}], 'base': 'stations', 'main': {'temp': 291.19, 'feels_like': 291.09, 'temp_min': 289.16, 'temp_max': 293.14, 'pressure': 1008, 'humidity': 78}, 'visibility': 9000, 'wind': {'speed': 6.17, 'deg': 300}, 'clouds': {'all': 75}, 'dt': 1717592439, 'sys': {'type': 2, 'id': 2011538, 'country': 'DE', 'sunrise': 1717555589, 'sunset': 1717615418}, 'timezone': 7200, 'id': 2950159, 'name': 'Berlin', 'cod': 200}\n"
     ]
    }
   ],
   "source": [
    "import requests\n",
    "import os\n",
    "from dotenv import load_dotenv\n",
    "load_dotenv()\n",
    "\n",
    "def get_weather_api():\n",
    "    # Openweather API key\n",
    "    api_key = os.getenv('openweather_api')\n",
    "    BASE_URL = \"http://api.openweathermap.org/data/2.5/weather?\"\n",
    "    CITY = \"Berlin\"\n",
    "    url = f'{BASE_URL}appid={api_key}&q={CITY}'\n",
    "    \n",
    "    response = requests.get(url).json()\n",
    "    \n",
    "    return response\n",
    "\n",
    "\n",
    "weather = get_weather_api()\n",
    "print(weather)"
   ]
  },
  {
   "cell_type": "markdown",
   "metadata": {},
   "source": [
    "### Connect the DB and Create a table to handle the Data"
   ]
  },
  {
   "cell_type": "code",
   "execution_count": 23,
   "metadata": {},
   "outputs": [],
   "source": [
    "import psycopg2\n",
    "\n",
    "# Database connection parameters\n",
    "DATABASE_URL = os.getenv('weather_db_url')\n",
    "\n",
    "# Connect to the database\n",
    "conn = psycopg2.connect(DATABASE_URL)\n",
    "cur = conn.cursor()\n",
    "\n",
    "# Create tables if they don't exist\n",
    "cur.execute('''\n",
    "CREATE TABLE IF NOT EXISTS weather_data(\n",
    "    date TIMESTAMP PRIMARY KEY,\n",
    "    city VARCHAR,\n",
    "    temp FLOAT,\n",
    "    feels FLOAT,\n",
    "    disc VARCHAR  \n",
    ")\n",
    "''')\n",
    "\n",
    "conn.commit()"
   ]
  },
  {
   "cell_type": "markdown",
   "metadata": {},
   "source": [
    "### Send data to DB "
   ]
  },
  {
   "cell_type": "code",
   "execution_count": 33,
   "metadata": {},
   "outputs": [
    {
     "data": {
      "text/plain": [
       "'Data saved to Database successfully'"
      ]
     },
     "execution_count": 33,
     "metadata": {},
     "output_type": "execute_result"
    }
   ],
   "source": [
    "import requests\n",
    "import datetime \n",
    "\n",
    "def save_crypto_data(response):\n",
    "   \n",
    "    # Database connection parameters\n",
    "    DATABASE_URL = os.getenv('weather_db_url')\n",
    "    # Connect to the database\n",
    "    conn = psycopg2.connect(DATABASE_URL)  \n",
    "    # Connect to the PostgreSQL database\n",
    "    cursor = conn.cursor()\n",
    "\n",
    "    # Extract required fields\n",
    "    dt = datetime.datetime.utcfromtimestamp(response.get('dt'))\n",
    "    city = response.get('name')\n",
    "    temp = round(response['main'].get('temp') - 273.15, 2)\n",
    "    feels_like = round(response['main'].get('feels_like') - 273.15, 2)\n",
    "    description = response['weather'][0].get('description')\n",
    "     \n",
    "    # Insert Data to the DB table   \n",
    "    cursor.execute('''\n",
    "        INSERT INTO weather_data (date, city, temp, feels, disc)\n",
    "        VALUES (%s, %s, %s, %s, %s)\n",
    "        ON CONFLICT (date) DO NOTHING\n",
    "    ''', (dt, city, temp, feels_like, description))\n",
    "\n",
    "    conn.commit()\n",
    "    cursor.close()\n",
    "    conn.close()\n",
    "    \n",
    "    return \"Data saved to Database successfully\"\n",
    "\n",
    "\n",
    "save_crypto_data(weather)"
   ]
  },
  {
   "cell_type": "code",
   "execution_count": null,
   "metadata": {},
   "outputs": [],
   "source": []
  }
 ],
 "metadata": {
  "kernelspec": {
   "display_name": "Python 3.9.18 ('WebScraping')",
   "language": "python",
   "name": "python3"
  },
  "language_info": {
   "codemirror_mode": {
    "name": "ipython",
    "version": 3
   },
   "file_extension": ".py",
   "mimetype": "text/x-python",
   "name": "python",
   "nbconvert_exporter": "python",
   "pygments_lexer": "ipython3",
   "version": "3.9.18"
  },
  "orig_nbformat": 4,
  "vscode": {
   "interpreter": {
    "hash": "212531411fcd17153a805d6074e0366cff17dd59790e19bd7bdb8bf777c2ea80"
   }
  }
 },
 "nbformat": 4,
 "nbformat_minor": 2
}
