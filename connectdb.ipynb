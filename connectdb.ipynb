{
 "cells": [
  {
   "cell_type": "code",
   "execution_count": 8,
   "metadata": {},
   "outputs": [],
   "source": [
    "# Importing APIs&WebScraping functions\n",
    "from fetch_crypto_data import fetch_crypto_data\n",
    "from scrape_bitcoin_news import scrape_bitcoin_news"
   ]
  },
  {
   "cell_type": "code",
   "execution_count": 2,
   "metadata": {},
   "outputs": [
    {
     "data": {
      "text/plain": [
       "True"
      ]
     },
     "execution_count": 2,
     "metadata": {},
     "output_type": "execute_result"
    }
   ],
   "source": [
    "import psycopg2\n",
    "from psycopg2 import sql\n",
    "from dotenv import load_dotenv\n",
    "import os\n",
    "load_dotenv()"
   ]
  },
  {
   "cell_type": "code",
   "execution_count": 10,
   "metadata": {},
   "outputs": [],
   "source": [
    "# Database connection parameters\n",
    "DATABASE_URL = os.getenv('DATABASE_URL')\n",
    "# Connect to the database\n",
    "conn = psycopg2.connect(DATABASE_URL)\n",
    "cur = conn.cursor()\n",
    "\n",
    "\n",
    "# Create tables if they don't exist\n",
    "cur.execute('''\n",
    "CREATE TABLE IF NOT EXISTS bitcoin_data_py(\n",
    "    date DATE PRIMARY KEY,\n",
    "    open FLOAT,\n",
    "    high FLOAT,\n",
    "    low FLOAT,\n",
    "    close FLOAT,\n",
    "    volume FLOAT\n",
    ")\n",
    "''')\n",
    "\n",
    "cur.execute('''\n",
    "CREATE TABLE IF NOT EXISTS bitcoin_news_py(\n",
    "    id SERIAL PRIMARY KEY,\n",
    "    Date DATE,\n",
    "    Title TEXT,\n",
    "    UNIQUE (Date, Title)\n",
    ")\n",
    "''')\n",
    "\n",
    "conn.commit()"
   ]
  },
  {
   "cell_type": "code",
   "execution_count": 11,
   "metadata": {},
   "outputs": [],
   "source": [
    "# Function to insert data into the bitcoin_data table\n",
    "def insert_bitcoin_data(conn, data):\n",
    "    try:\n",
    "        cursor = conn.cursor()\n",
    "        for index, row in data.iterrows():\n",
    "            cursor.execute('''\n",
    "                INSERT INTO bitcoin_data_py (date, open, high, low, close, volume)\n",
    "                VALUES (%s, %s, %s, %s, %s, %s)\n",
    "                ON CONFLICT (date) DO NOTHING\n",
    "            ''', (index, row['1. open'], row['2. high'], row['3. low'], row['4. close'], row['5. volume']))\n",
    "        conn.commit()\n",
    "        cursor.close()\n",
    "    except Exception as e:\n",
    "        print(f\"Error inserting bitcoin data: {e}\")\n",
    "        conn.rollback()"
   ]
  },
  {
   "cell_type": "code",
   "execution_count": 12,
   "metadata": {},
   "outputs": [],
   "source": [
    "# Function to insert data into the bitcoin_news table\n",
    "def insert_bitcoin_news(conn, df):\n",
    "    try:\n",
    "        cursor = conn.cursor()\n",
    "        for index, row in df.iterrows():\n",
    "            cursor.execute('''\n",
    "                INSERT INTO bitcoin_news_py (id, title, date)\n",
    "                VALUES (%s, %s, %s)\n",
    "                ON CONFLICT (id) DO NOTHING\n",
    "            ''', (index, row['Title'], row['Date']))\n",
    "        conn.commit()\n",
    "        cursor.close()\n",
    "    except Exception as e:\n",
    "        print(f\"Error inserting bitcoin news: {e}\")\n",
    "        conn.rollback()"
   ]
  },
  {
   "cell_type": "code",
   "execution_count": 13,
   "metadata": {},
   "outputs": [],
   "source": [
    "# Main function to orchestrate the data fetching and insertion\n",
    "def main():\n",
    "    # Fetch Bitcoin data\n",
    "    bitcoin_data = fetch_crypto_data('BTC', 'USD')\n",
    "\n",
    "    # Scrape Bitcoin news data\n",
    "    bitcoin_news_df = scrape_bitcoin_news()\n",
    "\n",
    "    # Connect to the PostgreSQL database\n",
    "    conn = psycopg2.connect(DATABASE_URL)\n",
    "\n",
    "    if conn:\n",
    "        # Insert data into the database\n",
    "        insert_bitcoin_data(conn, bitcoin_data)\n",
    "        insert_bitcoin_news(conn, bitcoin_news_df)\n",
    "\n",
    "        # Close the database connection\n",
    "        conn.close()\n",
    "    else:\n",
    "        print(\"Failed to connect to the database.\")\n",
    "\n",
    "if __name__ == '__main__':\n",
    "    main()"
   ]
  },
  {
   "cell_type": "markdown",
   "metadata": {},
   "source": [
    "### Create tables for AWS functions"
   ]
  },
  {
   "cell_type": "code",
   "execution_count": 3,
   "metadata": {},
   "outputs": [],
   "source": [
    "# Database connection parameters\n",
    "DATABASE_URL = os.getenv('DATABASE_URL')\n",
    "# Connect to the database\n",
    "conn = psycopg2.connect(DATABASE_URL)\n",
    "cur = conn.cursor()\n",
    "\n",
    "\n",
    "# Create tables if they don't exist\n",
    "cur.execute('''\n",
    "CREATE TABLE IF NOT EXISTS bitcoin_data_aws(\n",
    "    date DATE PRIMARY KEY,\n",
    "    open FLOAT,\n",
    "    high FLOAT,\n",
    "    low FLOAT,\n",
    "    close FLOAT,\n",
    "    volume FLOAT\n",
    ")\n",
    "''')\n",
    "\n",
    "cur.execute('''\n",
    "CREATE TABLE IF NOT EXISTS bitcoin_news_aws(\n",
    "    Date DATE PRIMARY KEY,\n",
    "    Title TEXT\n",
    "    )\n",
    "''')\n",
    "\n",
    "cur.execute('''\n",
    "CREATE TABLE IF NOT EXISTS bitcoin_news_sentiment(\n",
    "    date DATE PRIMARY KEY,\n",
    "    title TEXT,\n",
    "    sentiment TEXT  \n",
    "    )\n",
    "''')\n",
    "\n",
    "\n",
    "cur.execute('''\n",
    "CREATE TABLE IF NOT EXISTS BitcoinNews_SentimentScore(\n",
    "    date DATE,\n",
    "    title TEXT PRIMARY KEY,\n",
    "    neutral FLOAT,\n",
    "    negative FLOAT,\n",
    "    positive FLOAT\n",
    "    )\n",
    "''')\n",
    "\n",
    "conn.commit()"
   ]
  },
  {
   "cell_type": "code",
   "execution_count": 22,
   "metadata": {},
   "outputs": [],
   "source": [
    "# Database connection parameters\n",
    "DATABASE_URL = os.getenv('DATABASE_URL')\n",
    "# Connect to the database\n",
    "conn = psycopg2.connect(DATABASE_URL)\n",
    "cur = conn.cursor()\n",
    "\n",
    "# DELETE tables \n",
    "cur.execute('''DROP TABLE bitcoin_data3;''')\n",
    "\n",
    "conn.commit()"
   ]
  }
 ],
 "metadata": {
  "kernelspec": {
   "display_name": "Python 3.9.18 ('WebScraping')",
   "language": "python",
   "name": "python3"
  },
  "language_info": {
   "codemirror_mode": {
    "name": "ipython",
    "version": 3
   },
   "file_extension": ".py",
   "mimetype": "text/x-python",
   "name": "python",
   "nbconvert_exporter": "python",
   "pygments_lexer": "ipython3",
   "version": "3.9.18"
  },
  "orig_nbformat": 4,
  "vscode": {
   "interpreter": {
    "hash": "212531411fcd17153a805d6074e0366cff17dd59790e19bd7bdb8bf777c2ea80"
   }
  }
 },
 "nbformat": 4,
 "nbformat_minor": 2
}
